{
 "cells": [
  {
   "cell_type": "markdown",
   "metadata": {},
   "source": [
    "Pythonには、日付のdate、日付時間のdatetime、時間差のtimedeltaの型がある。\n",
    "\n",
    "なぜか。日付は（普通の数字とは違うが）順序もあるし、足し算、引き算ができるし、（しかし掛け算の意味はわからない）、（数字と違う）独自の表示方法がある。だから、floatとかintとは違う「数値型」として、準備してある。"
   ]
  },
  {
   "cell_type": "code",
   "execution_count": 2,
   "metadata": {},
   "outputs": [],
   "source": [
    "from datetime import date\n",
    "t = date.fromisoformat(\"2021-04-05\")"
   ]
  },
  {
   "cell_type": "markdown",
   "metadata": {},
   "source": [
    "独自の表示は以下のように確かめられる。"
   ]
  },
  {
   "cell_type": "code",
   "execution_count": 3,
   "metadata": {},
   "outputs": [
    {
     "name": "stdout",
     "output_type": "stream",
     "text": [
      "2021-04-05\n"
     ]
    }
   ],
   "source": [
    "print(t)"
   ]
  },
  {
   "cell_type": "markdown",
   "metadata": {},
   "source": [
    "日付時間の場合"
   ]
  },
  {
   "cell_type": "code",
   "execution_count": 4,
   "metadata": {},
   "outputs": [],
   "source": [
    "from datetime import datetime\n",
    "d = datetime(2021,3,5,12,5,20)"
   ]
  },
  {
   "cell_type": "code",
   "execution_count": 5,
   "metadata": {},
   "outputs": [
    {
     "name": "stdout",
     "output_type": "stream",
     "text": [
      "2021-03-05 12:05:20\n"
     ]
    }
   ],
   "source": [
    "print(d)"
   ]
  },
  {
   "cell_type": "markdown",
   "metadata": {},
   "source": [
    "時間の引き算ができる。結果はtimedelta型になる。"
   ]
  },
  {
   "cell_type": "code",
   "execution_count": 8,
   "metadata": {},
   "outputs": [
    {
     "name": "stdout",
     "output_type": "stream",
     "text": [
      "<class 'datetime.timedelta'>\n",
      "94 days, 12:05:20\n"
     ]
    }
   ],
   "source": [
    "d1 = datetime(2021,1,1,0,0,0)\n",
    "d2 = datetime(2021,4,5,12,5,20)\n",
    "delta1 = d2 - d1\n",
    "print( type(delta1) )\n",
    "print(delta1)"
   ]
  },
  {
   "cell_type": "markdown",
   "metadata": {},
   "source": [
    "各データ型には様々な属性やメソッドがある。"
   ]
  },
  {
   "cell_type": "code",
   "execution_count": 10,
   "metadata": {},
   "outputs": [
    {
     "name": "stdout",
     "output_type": "stream",
     "text": [
      "2021\n",
      "4\n",
      "0\n"
     ]
    }
   ],
   "source": [
    "print( t.year )\n",
    "print( t.month )\n",
    "print( t.weekday() ) # 月曜日が0、日曜日が6になる"
   ]
  },
  {
   "cell_type": "markdown",
   "metadata": {},
   "source": [
    "#### スクレイピングデータを解釈する例\n",
    "\n",
    "日付を表す文字列は、'3/15(月) 15:49'という、極めて日本的なフォーマットである。"
   ]
  },
  {
   "cell_type": "code",
   "execution_count": 22,
   "metadata": {},
   "outputs": [
    {
     "ename": "ValueError",
     "evalue": "time data '2021/3/15(月) 15:49' does not match format '%Y/%m/%d(%a) %H:%M'",
     "output_type": "error",
     "traceback": [
      "\u001b[0;31m---------------------------------------------------------------------------\u001b[0m",
      "\u001b[0;31mValueError\u001b[0m                                Traceback (most recent call last)",
      "\u001b[0;32m<ipython-input-22-9b2a2829acea>\u001b[0m in \u001b[0;36m<module>\u001b[0;34m\u001b[0m\n\u001b[1;32m      1\u001b[0m \u001b[0mstr_date\u001b[0m \u001b[0;34m=\u001b[0m \u001b[0;34m'3/15(月) 15:49'\u001b[0m\u001b[0;34m\u001b[0m\u001b[0;34m\u001b[0m\u001b[0m\n\u001b[1;32m      2\u001b[0m \u001b[0;34m\u001b[0m\u001b[0m\n\u001b[0;32m----> 3\u001b[0;31m \u001b[0mdatetime\u001b[0m\u001b[0;34m.\u001b[0m\u001b[0mstrptime\u001b[0m\u001b[0;34m(\u001b[0m\u001b[0;34m\"2021/\"\u001b[0m \u001b[0;34m+\u001b[0m \u001b[0mstr_date\u001b[0m\u001b[0;34m,\u001b[0m \u001b[0;34m\"%Y/%m/%d(%a) %H:%M\"\u001b[0m\u001b[0;34m)\u001b[0m\u001b[0;34m\u001b[0m\u001b[0;34m\u001b[0m\u001b[0m\n\u001b[0m",
      "\u001b[0;32m/opt/anaconda3/lib/python3.7/_strptime.py\u001b[0m in \u001b[0;36m_strptime_datetime\u001b[0;34m(cls, data_string, format)\u001b[0m\n\u001b[1;32m    575\u001b[0m     \"\"\"Return a class cls instance based on the input string and the\n\u001b[1;32m    576\u001b[0m     format string.\"\"\"\n\u001b[0;32m--> 577\u001b[0;31m     \u001b[0mtt\u001b[0m\u001b[0;34m,\u001b[0m \u001b[0mfraction\u001b[0m\u001b[0;34m,\u001b[0m \u001b[0mgmtoff_fraction\u001b[0m \u001b[0;34m=\u001b[0m \u001b[0m_strptime\u001b[0m\u001b[0;34m(\u001b[0m\u001b[0mdata_string\u001b[0m\u001b[0;34m,\u001b[0m \u001b[0mformat\u001b[0m\u001b[0;34m)\u001b[0m\u001b[0;34m\u001b[0m\u001b[0;34m\u001b[0m\u001b[0m\n\u001b[0m\u001b[1;32m    578\u001b[0m     \u001b[0mtzname\u001b[0m\u001b[0;34m,\u001b[0m \u001b[0mgmtoff\u001b[0m \u001b[0;34m=\u001b[0m \u001b[0mtt\u001b[0m\u001b[0;34m[\u001b[0m\u001b[0;34m-\u001b[0m\u001b[0;36m2\u001b[0m\u001b[0;34m:\u001b[0m\u001b[0;34m]\u001b[0m\u001b[0;34m\u001b[0m\u001b[0;34m\u001b[0m\u001b[0m\n\u001b[1;32m    579\u001b[0m     \u001b[0margs\u001b[0m \u001b[0;34m=\u001b[0m \u001b[0mtt\u001b[0m\u001b[0;34m[\u001b[0m\u001b[0;34m:\u001b[0m\u001b[0;36m6\u001b[0m\u001b[0;34m]\u001b[0m \u001b[0;34m+\u001b[0m \u001b[0;34m(\u001b[0m\u001b[0mfraction\u001b[0m\u001b[0;34m,\u001b[0m\u001b[0;34m)\u001b[0m\u001b[0;34m\u001b[0m\u001b[0;34m\u001b[0m\u001b[0m\n",
      "\u001b[0;32m/opt/anaconda3/lib/python3.7/_strptime.py\u001b[0m in \u001b[0;36m_strptime\u001b[0;34m(data_string, format)\u001b[0m\n\u001b[1;32m    357\u001b[0m     \u001b[0;32mif\u001b[0m \u001b[0;32mnot\u001b[0m \u001b[0mfound\u001b[0m\u001b[0;34m:\u001b[0m\u001b[0;34m\u001b[0m\u001b[0;34m\u001b[0m\u001b[0m\n\u001b[1;32m    358\u001b[0m         raise ValueError(\"time data %r does not match format %r\" %\n\u001b[0;32m--> 359\u001b[0;31m                          (data_string, format))\n\u001b[0m\u001b[1;32m    360\u001b[0m     \u001b[0;32mif\u001b[0m \u001b[0mlen\u001b[0m\u001b[0;34m(\u001b[0m\u001b[0mdata_string\u001b[0m\u001b[0;34m)\u001b[0m \u001b[0;34m!=\u001b[0m \u001b[0mfound\u001b[0m\u001b[0;34m.\u001b[0m\u001b[0mend\u001b[0m\u001b[0;34m(\u001b[0m\u001b[0;34m)\u001b[0m\u001b[0;34m:\u001b[0m\u001b[0;34m\u001b[0m\u001b[0;34m\u001b[0m\u001b[0m\n\u001b[1;32m    361\u001b[0m         raise ValueError(\"unconverted data remains: %s\" %\n",
      "\u001b[0;31mValueError\u001b[0m: time data '2021/3/15(月) 15:49' does not match format '%Y/%m/%d(%a) %H:%M'"
     ]
    }
   ],
   "source": [
    "str_date = '3/15(月) 15:49'\n",
    "\n",
    "datetime.strptime(\"2021/\" + str_date, \"%Y/%m/%d(%a) %H:%M\")"
   ]
  },
  {
   "cell_type": "markdown",
   "metadata": {},
   "source": [
    "Pythonの標準的な文字列変換では、(月)が処理できないようだ。\n",
    "\n",
    "ならば、削除するしかない。\n",
    "\n",
    "それには、正規表現を使い、(月)を空文字で置換する。"
   ]
  },
  {
   "cell_type": "code",
   "execution_count": 27,
   "metadata": {},
   "outputs": [
    {
     "data": {
      "text/plain": [
       "'3/15 15:49'"
      ]
     },
     "execution_count": 27,
     "metadata": {},
     "output_type": "execute_result"
    }
   ],
   "source": [
    "str_date = '3/15(月) 15:49'\n",
    "\n",
    "import re\n",
    "\n",
    "re.sub('\\([月火水木金土日]\\)', \"\", str_date)"
   ]
  },
  {
   "cell_type": "markdown",
   "metadata": {},
   "source": [
    "これで、丸括弧の曜日を削除することができた。これを関数にする。"
   ]
  },
  {
   "cell_type": "code",
   "execution_count": 28,
   "metadata": {},
   "outputs": [
    {
     "data": {
      "text/plain": [
       "datetime.datetime(2021, 3, 15, 15, 49)"
      ]
     },
     "execution_count": 28,
     "metadata": {},
     "output_type": "execute_result"
    }
   ],
   "source": [
    "import re\n",
    "def dateString2Datetime(_string):\n",
    "    cleaned_string = re.sub('\\([月火水木金土日]\\)', \"\", _string)\n",
    "    return datetime.strptime(\"2021/\" + cleaned_string, \"%Y/%m/%d %H:%M\")\n",
    "\n",
    "# test\n",
    "dateString2Datetime('3/15(月) 15:49')"
   ]
  },
  {
   "cell_type": "code",
   "execution_count": 29,
   "metadata": {},
   "outputs": [
    {
     "name": "stdout",
     "output_type": "stream",
     "text": [
      "{'Media': 'Yahoo!ニュース_オリジナル_RED_Chair', 'Title': '僕、このまま終わるんじゃないですか――はじめしゃちょーの「ガチ相談」、佐藤二朗の回答は', 'Pubdate': datetime.datetime(2021, 4, 4, 16, 21), 'Link': 'https://news.yahoo.co.jp/articles/0dff7866d65be200fd7430c87688ed17b4f41165'}\n",
      "{'Media': 'Yahoo!ニュース_オリジナル_RED_Chair', 'Title': '「ロールモデルがいない」三浦瑠麗と蜷川実花、それでも捉われた「昭和の育児」の呪縛', 'Pubdate': datetime.datetime(2021, 3, 15, 15, 49), 'Link': 'https://news.yahoo.co.jp/articles/2fb15e5c12df914138044832fa56fb90903b8a89'}\n",
      "{'Media': 'Yahoo!ニュース_オリジナル_RED_Chair', 'Title': '寄り添えるか、優しくできるか――綾野剛と常田大希が語るクリエイティブの「原点」', 'Pubdate': datetime.datetime(2021, 3, 12, 12, 14), 'Link': 'https://news.yahoo.co.jp/articles/9c84797c769077f7ea837b60c0566996154bc393'}\n",
      "{'Media': 'Yahoo!ニュース_オリジナル_RED_Chair', 'Title': '「日本人じゃない」と突きつけられた過去――水原希子、自分らしさとの葛藤の先に', 'Pubdate': datetime.datetime(2021, 3, 11, 12, 5), 'Link': 'https://news.yahoo.co.jp/articles/acce2e42c7213e16cbae53e4b0f98e8855d658b4'}\n",
      "{'Media': 'Yahoo!ニュース_オリジナル_RED_Chair', 'Title': '「お金は社会に還元して死ぬ」――「暴走族」安藤忠雄79歳、規格外の人生', 'Pubdate': datetime.datetime(2021, 3, 10, 12, 2), 'Link': 'https://news.yahoo.co.jp/articles/3bb8436277b3b6380f26102693d02c35dda13dbe'}\n",
      "{'Media': 'Yahoo!ニュース_オリジナル_RED_Chair', 'Title': '「とんねるずは死にました」―戦力外通告された石橋貴明58歳、「新しい遊び場」で生き返るまで', 'Pubdate': datetime.datetime(2021, 3, 9, 12, 3), 'Link': 'https://news.yahoo.co.jp/articles/81c20a519a9d42182ff118616849b16fa581014f'}\n",
      "{'Media': 'Yahoo!ニュース_オリジナル_RED_Chair', 'Title': '「世間の声は気にしない」―山田孝之は「愛」のために生きていく', 'Pubdate': datetime.datetime(2021, 3, 8, 12, 2), 'Link': 'https://news.yahoo.co.jp/articles/1a7d251319008b131e68a2211822a255b3f8628a'}\n",
      "{'Media': 'Yahoo!ニュース_オリジナル_RED_Chair', 'Title': '「理解に苦しむものはみんな化け物扱い」――闘い続ける“不死鳥”、美輪明宏の人生', 'Pubdate': datetime.datetime(2021, 3, 3, 13, 28), 'Link': 'https://news.yahoo.co.jp/articles/baeb0b5299c57ad740acd18394c58295d1297647'}\n",
      "{'Media': 'Yahoo!ニュース_オリジナル_RED_Chair', 'Title': '「『スラムダンク』なら神宗一郎」――エンゼルス大谷翔平、「謙虚過ぎる」25歳', 'Pubdate': datetime.datetime(2021, 3, 3, 13, 17), 'Link': 'https://news.yahoo.co.jp/articles/7c7dd8f54004c7605fd2f8cc84bb8d25b6eaec5b'}\n",
      "{'Media': 'Yahoo!ニュース_オリジナル_RED_Chair', 'Title': '「人間が持っている能力を使い切るには、人生は短い」羽生善治はなぜ勝負を続けるのか', 'Pubdate': datetime.datetime(2021, 3, 3, 13, 16), 'Link': 'https://news.yahoo.co.jp/articles/25b545d26da9edae4a6cd7f1db99f8da811203e4'}\n",
      "{'Media': 'Yahoo!ニュース_オリジナル_RED_Chair', 'Title': '「サッカー人生を通じて、世界を変える切符を手にした」本田圭佑32歳の目指す進化', 'Pubdate': datetime.datetime(2021, 3, 3, 13, 10), 'Link': 'https://news.yahoo.co.jp/articles/f878cd3842ab04189804ab6be1236c7c018070c8'}\n",
      "{'Media': 'THE_TENNIS_DAILY', 'Title': '既に犬のための仕事に着手！ハーバードでビジネスを学ぶ選手たち', 'Pubdate': datetime.datetime(2021, 4, 5, 17, 0), 'Link': 'https://news.yahoo.co.jp/articles/1fefdbf5078aed4dd6dead943895c426cecbf925'}\n",
      "{'Media': 'THE_TENNIS_DAILY', 'Title': 'マイアミ大会で青山／柴原ペアが優勝！', 'Pubdate': datetime.datetime(2021, 4, 5, 13, 30), 'Link': 'https://news.yahoo.co.jp/articles/4cc0651b6279f5f0b7b1185aa3738455ec201b80'}\n",
      "{'Media': 'THE_TENNIS_DAILY', 'Title': '世界37位ホルカシュがマスターズ初優勝！親友との対決制す', 'Pubdate': datetime.datetime(2021, 4, 5, 12, 30), 'Link': 'https://news.yahoo.co.jp/articles/ce12b39d0ea2275df7e28dfb06237feac40f511f'}\n",
      "{'Media': 'THE_TENNIS_DAILY', 'Title': 'シャラポワが一日のルーティーンを紹介', 'Pubdate': datetime.datetime(2021, 4, 5, 8, 0), 'Link': 'https://news.yahoo.co.jp/articles/fdfd7a6b9c595a4a7fbf7a4d5102dbd859d296a8'}\n",
      "{'Media': 'THE_TENNIS_DAILY', 'Title': 'テニス選手では初！超お嬢様ペグラがトレーディングカードをリリース', 'Pubdate': datetime.datetime(2021, 4, 5, 7, 0), 'Link': 'https://news.yahoo.co.jp/articles/e98655c5ecf3fb29a6b70e4c70ce45a54fe4d367'}\n",
      "{'Media': 'THE_TENNIS_DAILY', 'Title': 'メドベージェフはなぜクレーに弱いのか', 'Pubdate': datetime.datetime(2021, 4, 4, 17, 0), 'Link': 'https://news.yahoo.co.jp/articles/c7eaeace331c65f379b30fd5588076a53336fad5'}\n",
      "{'Media': 'THE_TENNIS_DAILY', 'Title': '破局報道から一転、テニス界のビッグカップルが婚約を発表！', 'Pubdate': datetime.datetime(2021, 4, 4, 12, 0), 'Link': 'https://news.yahoo.co.jp/articles/15061cbb7bd080b48c39fb83d9eb1fac6f57b809'}\n",
      "{'Media': 'THE_TENNIS_DAILY', 'Title': 'テニス選手が一年にかけるラケットのストリング代って？', 'Pubdate': datetime.datetime(2021, 4, 4, 8, 0), 'Link': 'https://news.yahoo.co.jp/articles/0bec14d54c729efdf145d4a098c1f653d51cd80a'}\n",
      "{'Media': 'THE_TENNIS_DAILY', 'Title': 'セレナが大坂なおみの憧れの人とイベントで共演', 'Pubdate': datetime.datetime(2021, 4, 4, 7, 0), 'Link': 'https://news.yahoo.co.jp/articles/3a171b1b07c5cdf2907fe644393b24f40f8c1526'}\n",
      "{'Media': 'THE_TENNIS_DAILY', 'Title': 'シンネルがマイアミ決勝進出！ナダルやジョコビッチに続く快挙', 'Pubdate': datetime.datetime(2021, 4, 3, 20, 0), 'Link': 'https://news.yahoo.co.jp/articles/e8df0915ecfb61fc331b6f643edcd99f62ed11bc'}\n",
      "{'Media': 'THE_TENNIS_DAILY', 'Title': 'フランスの学校閉鎖。「全仏オープン」は予定通り開催できるのか', 'Pubdate': datetime.datetime(2021, 4, 3, 17, 0), 'Link': 'https://news.yahoo.co.jp/articles/881cfea519e5b0a6f6959efa33b8d73a0d0decc8'}\n",
      "{'Media': 'THE_TENNIS_DAILY', 'Title': 'ほぼすべてのジャンルの音楽が好きなナダルが唯一聴かないのは？', 'Pubdate': datetime.datetime(2021, 4, 3, 12, 0), 'Link': 'https://news.yahoo.co.jp/articles/0eeee7a7244dff8b93d2637f6675a67c2206ef69'}\n",
      "{'Media': 'THE_TENNIS_DAILY', 'Title': 'クレーシーズン到来！4月開催の主な大会まとめ', 'Pubdate': datetime.datetime(2021, 4, 3, 8, 0), 'Link': 'https://news.yahoo.co.jp/articles/d27c645360b7654e4f10d99f4190f1215494c208'}\n",
      "{'Media': 'THE_TENNIS_DAILY', 'Title': 'ATPとWTAはワクチン接種を推奨も...トップ選手で分かれる意見', 'Pubdate': datetime.datetime(2021, 4, 3, 7, 0), 'Link': 'https://news.yahoo.co.jp/articles/e5602f4fd9ab694b15dc48030e675f64ac58e40a'}\n",
      "{'Media': 'THE_TENNIS_DAILY', 'Title': 'マイアミ大会いよいよ大詰め！日本人ペアも準決勝へ', 'Pubdate': datetime.datetime(2021, 4, 2, 20, 0), 'Link': 'https://news.yahoo.co.jp/articles/bc19f6b211ebc1692cc672058eafc374ebdf1ae9'}\n",
      "{'Media': 'THE_TENNIS_DAILY', 'Title': 'マイアミ準々決勝敗退のチチパス「勝利が手からこぼれ落ちた」', 'Pubdate': datetime.datetime(2021, 4, 2, 19, 0), 'Link': 'https://news.yahoo.co.jp/articles/de4ff98be1b591dd3c91596bfa4ed4659749c218'}\n",
      "{'Media': 'THE_TENNIS_DAILY', 'Title': '飛躍を続ける19歳シンネル「もっとダブルスをプレーしたい」', 'Pubdate': datetime.datetime(2021, 4, 2, 17, 0), 'Link': 'https://news.yahoo.co.jp/articles/16f213036bd927081ad8cae0a0139433f0a328fd'}\n",
      "{'Media': 'THE_TENNIS_DAILY', 'Title': 'フェデラーがスイス観光局のアンバサダーに', 'Pubdate': datetime.datetime(2021, 4, 2, 12, 0), 'Link': 'https://news.yahoo.co.jp/articles/b7c55852d475bbd1d92def68443822496891b041'}\n",
      "{'Media': 'THE_TENNIS_DAILY', 'Title': 'プロテニス選手が八百長？罰金約1100万円、14年間の出場停止処分を受ける', 'Pubdate': datetime.datetime(2021, 4, 2, 11, 0), 'Link': 'https://news.yahoo.co.jp/articles/b71c77ed80ef064612711fe811493608a599c9e5'}\n",
      "{'Media': 'THE_TENNIS_DAILY', 'Title': '世界のトップアスリートの中で現役初の10億ドルプレーヤーになるのは？', 'Pubdate': datetime.datetime(2021, 4, 2, 8, 0), 'Link': 'https://news.yahoo.co.jp/articles/5456680f174adc27863e9b985c3854c7b96cdb94'}\n",
      "{'Media': 'THE_TENNIS_DAILY', 'Title': '思わぬ運に助けられた遅咲きの27歳はコーチも手を焼く悪童だった！', 'Pubdate': datetime.datetime(2021, 4, 2, 7, 0), 'Link': 'https://news.yahoo.co.jp/articles/0460f9b5224d144d5a3d7373e045144fb5681f42'}\n",
      "{'Media': 'THE_TENNIS_DAILY', 'Title': 'メドベージェフ、マイアミ敗退もビッグ4に続く記録達成', 'Pubdate': datetime.datetime(2021, 4, 1, 20, 0), 'Link': 'https://news.yahoo.co.jp/articles/4d5cf5901e38e2e4c2814ba88c2f43b62bdc8809'}\n",
      "{'Media': 'THE_TENNIS_DAILY', 'Title': '日本建築の影響も！シャラポワが家具コレクションを発表', 'Pubdate': datetime.datetime(2021, 4, 1, 19, 0), 'Link': 'https://news.yahoo.co.jp/articles/ef44f95124d30bb8a634d62f663c3ff511d66017'}\n",
      "{'Media': 'THE_TENNIS_DAILY', 'Title': 'マイアミで快進撃を続ける20歳の新星、その秘訣は猫?!', 'Pubdate': datetime.datetime(2021, 4, 1, 18, 0), 'Link': 'https://news.yahoo.co.jp/articles/884f7de1e6c8234f12d772964b31836372a36669'}\n",
      "{'Media': 'THE_TENNIS_DAILY', 'Title': '大坂なおみが久々の敗戦で見せた成長「前よりも戦った」', 'Pubdate': datetime.datetime(2021, 4, 1, 17, 0), 'Link': 'https://news.yahoo.co.jp/articles/d5be02b8751823029b0a0ed1d7de412edb6b56fd'}\n",
      "{'Media': '25ansウエディング', 'Title': '幸せを運ぶ！ 人気ブランドのラッキーモチーフジュエリー集【Part1】', 'Pubdate': datetime.datetime(2021, 4, 4, 22, 3), 'Link': 'https://news.yahoo.co.jp/articles/cee966c2e44c4d9d73f586efc65cb23c91fecec5'}\n",
      "{'Media': '25ansウエディング', 'Title': '人気ブランドで見つけるウエディングシューズ【マノロ ブラニク編】', 'Pubdate': datetime.datetime(2021, 4, 4, 21, 5), 'Link': 'https://news.yahoo.co.jp/articles/cf12a58c5e101d44e602f86c0f8f376843f543d6'}\n",
      "{'Media': '25ansウエディング', 'Title': '日帰り利用もできる、ラグジュアリーなホテルスパのご褒美プラン\\u3000Part2', 'Pubdate': datetime.datetime(2021, 4, 4, 20, 4), 'Link': 'https://news.yahoo.co.jp/articles/9a6f4ea413c5b50e9900445d16fb90779f2ac252'}\n",
      "{'Media': '25ansウエディング', 'Title': 'ヒラリー・ダフ、水中出産で第3子となる女児を出産！', 'Pubdate': datetime.datetime(2021, 4, 4, 19, 12), 'Link': 'https://news.yahoo.co.jp/articles/d828dff733f4f05bd7ecfd1a95c1cfc41d3a242f'}\n",
      "{'Media': '25ansウエディング', 'Title': '日帰り利用もできる、ラグジュアリーなホテルスパのご褒美プラン\\u3000Part1', 'Pubdate': datetime.datetime(2021, 4, 3, 22, 16), 'Link': 'https://news.yahoo.co.jp/articles/0cb8dafc229d13ba213abd973d94c10e0fecd30c'}\n",
      "{'Media': '25ansウエディング', 'Title': '編集部注目のブライダルフェア『パレスホテル東京』『アンダーズ 東京  』', 'Pubdate': datetime.datetime(2021, 4, 3, 21, 48), 'Link': 'https://news.yahoo.co.jp/articles/3a75b54d136be3d404e71e4dbf36c0704c5e5352'}\n",
      "{'Media': '25ansウエディング', 'Title': '大切な日は知的に、エレガントに！\\u3000両家の顔合わせ洋服コーデ3選', 'Pubdate': datetime.datetime(2021, 4, 3, 21, 26), 'Link': 'https://news.yahoo.co.jp/articles/394b727e291db2f25b5cba08989db88ce66a6800'}\n",
      "{'Media': '25ansウエディング', 'Title': '【祝50歳！】人気俳優ユアン・マクレガー、大人の恋愛事情', 'Pubdate': datetime.datetime(2021, 4, 1, 21, 4), 'Link': 'https://news.yahoo.co.jp/articles/293f14129d303c87b0e43c044eaa6775e4f3aaeb'}\n",
      "{'Media': '25ansウエディング', 'Title': '指先を優美に！\\u3000シルエットコンシャスな結婚指輪6選', 'Pubdate': datetime.datetime(2021, 4, 1, 19, 32), 'Link': 'https://news.yahoo.co.jp/articles/a27942d02652a7ed4e298e29264187dd34dd9aa7'}\n",
      "{'Media': '25ansウエディング', 'Title': '【ウエディング・パーティ最旬トレンド】今こそ考えたい「挙式」の大切さ', 'Pubdate': datetime.datetime(2021, 3, 30, 22, 2), 'Link': 'https://news.yahoo.co.jp/articles/c6c4d9b18a7091ce5b955e1dc95cbd9b2010a430'}\n",
      "{'Media': '25ansウエディング', 'Title': '春めくカラーのお色直しドレス集', 'Pubdate': datetime.datetime(2021, 3, 30, 20, 5), 'Link': 'https://news.yahoo.co.jp/articles/2c9c1f4e267e27dfe0671e1868625c881eee3105'}\n",
      "{'Media': '25ansウエディング', 'Title': 'ゲストの心に残る結婚式の料理を拝見！【グランド ハイアット 東京】', 'Pubdate': datetime.datetime(2021, 3, 30, 19, 2), 'Link': 'https://news.yahoo.co.jp/articles/1f947839ec742572fc1f833c8b2bca949b12dbb8'}\n",
      "{'Media': '25ansウエディング', 'Title': '『プラダを着た悪魔』から生まれた本物のラブストーリー', 'Pubdate': datetime.datetime(2021, 3, 28, 21, 10), 'Link': 'https://news.yahoo.co.jp/articles/ff728ab774e5f5b0a9ccc7118987e72edea03554'}\n",
      "{'Media': '25ansウエディング', 'Title': '最愛ウエディング・シューズカタログ【ジミー チュウ編】', 'Pubdate': datetime.datetime(2021, 3, 28, 20, 41), 'Link': 'https://news.yahoo.co.jp/articles/352103ac846a3cfd48de9bd73587f5902da730dc'}\n",
      "{'Media': '25ansウエディング', 'Title': '編集部注目のブライダルフェア「グランド ハイアット 東京」「パレスホテル東京」', 'Pubdate': datetime.datetime(2021, 3, 27, 23, 10), 'Link': 'https://news.yahoo.co.jp/articles/5a47f664f99b8662b12bddbb73fedb2ed1ee561b'}\n",
      "{'Media': '25ansウエディング', 'Title': '編集部注目のブライダルフェア「ザ・ペニンシュラ東京」「アンダーズ 東京」', 'Pubdate': datetime.datetime(2021, 3, 27, 21, 34), 'Link': 'https://news.yahoo.co.jp/articles/42cbf59a5adb85c42002fbd0fcd6a67c16641f3e'}\n",
      "{'Media': '25ansウエディング', 'Title': '結婚式の前後はゆったりと宿泊がトレンド！\\u3000人気ホテル＆会場のお部屋をチェック', 'Pubdate': datetime.datetime(2021, 3, 27, 20, 55), 'Link': 'https://news.yahoo.co.jp/articles/317fc0ed4da0f000d235b9318ac2f1eccecc5f03'}\n",
      "{'Media': '25ansウエディング', 'Title': '『バイオハザード』ミラ・ジョヴォヴィッチの華麗なるドレスアップ集', 'Pubdate': datetime.datetime(2021, 3, 26, 21, 4), 'Link': 'https://news.yahoo.co.jp/articles/ae299223d5a982562c49b614e5578b8b29f274cd'}\n",
      "{'Media': '25ansウエディング', 'Title': '【モンスターハンター本日公開！】ミラ・ジョヴォヴィッチの華麗なる結婚歴', 'Pubdate': datetime.datetime(2021, 3, 26, 20, 32), 'Link': 'https://news.yahoo.co.jp/articles/c74f7a1a36501c0d06287064efdeb95babf6694d'}\n",
      "{'Media': '25ansウエディング', 'Title': 'ひと目ぼれチャペル図鑑【長楽館】', 'Pubdate': datetime.datetime(2021, 3, 26, 19, 7), 'Link': 'https://news.yahoo.co.jp/articles/41101c8bb66775fdf4b6305dddf8c052512c4e43'}\n",
      "{'Media': '25ansウエディング', 'Title': '生花で彩る！\\u3000ウエディングのための最旬ブーケ【ハッピーカラー編】', 'Pubdate': datetime.datetime(2021, 3, 25, 22, 1), 'Link': 'https://news.yahoo.co.jp/articles/254be646e5cfc438e36eacf5630ce9405f66fa72'}\n",
      "{'Media': '25ansウエディング', 'Title': '海外人気5ブランドの個性派エンゲージ', 'Pubdate': datetime.datetime(2021, 3, 25, 21, 10), 'Link': 'https://news.yahoo.co.jp/articles/5f9818e12085a155024d75bc0257b8285576a95c'}\n",
      "{'Media': '25ansウエディング', 'Title': '彼と楽しみたい！人気ホテルの2021年春のおこもりグルメ【関西編】', 'Pubdate': datetime.datetime(2021, 3, 25, 19, 6), 'Link': 'https://news.yahoo.co.jp/articles/a07f71193289ae3d56832d82a47c80e76991fae4'}\n",
      "{'Media': '25ansウエディング', 'Title': 'ステータスブランドのときめき婚約指輪＜ブルガリ編＞', 'Pubdate': datetime.datetime(2021, 3, 24, 18, 8), 'Link': 'https://news.yahoo.co.jp/articles/734af49eb43b56790c7749efd85647207e48e562'}\n",
      "{'Media': '25ansウエディング', 'Title': '素敵なドレスが知りたい！\\u3000ギャレリアコレクション「おしゃれディテールドレス」編', 'Pubdate': datetime.datetime(2021, 3, 23, 22, 49), 'Link': 'https://news.yahoo.co.jp/articles/c01c402e819707381b4fb207b20570dc0148929c'}\n"
     ]
    },
    {
     "ename": "KeyboardInterrupt",
     "evalue": "",
     "output_type": "error",
     "traceback": [
      "\u001b[0;31m---------------------------------------------------------------------------\u001b[0m",
      "\u001b[0;31mKeyboardInterrupt\u001b[0m                         Traceback (most recent call last)",
      "\u001b[0;32m<ipython-input-29-a10e47e46f0b>\u001b[0m in \u001b[0;36m<module>\u001b[0;34m\u001b[0m\n\u001b[1;32m     17\u001b[0m     \u001b[0murl\u001b[0m \u001b[0;34m=\u001b[0m \u001b[0mrow\u001b[0m\u001b[0;34m[\u001b[0m\u001b[0;34m'url'\u001b[0m\u001b[0;34m]\u001b[0m\u001b[0;34m\u001b[0m\u001b[0;34m\u001b[0m\u001b[0m\n\u001b[1;32m     18\u001b[0m     \u001b[0;31m# エチケットとして５秒待つ\u001b[0m\u001b[0;34m\u001b[0m\u001b[0;34m\u001b[0m\u001b[0;34m\u001b[0m\u001b[0m\n\u001b[0;32m---> 19\u001b[0;31m     \u001b[0mtime\u001b[0m\u001b[0;34m.\u001b[0m\u001b[0msleep\u001b[0m\u001b[0;34m(\u001b[0m\u001b[0;36m5\u001b[0m\u001b[0;34m)\u001b[0m\u001b[0;34m\u001b[0m\u001b[0;34m\u001b[0m\u001b[0m\n\u001b[0m\u001b[1;32m     20\u001b[0m \u001b[0;34m\u001b[0m\u001b[0m\n\u001b[1;32m     21\u001b[0m     \u001b[0mhtml\u001b[0m \u001b[0;34m=\u001b[0m \u001b[0mrequests\u001b[0m\u001b[0;34m.\u001b[0m\u001b[0mget\u001b[0m\u001b[0;34m(\u001b[0m \u001b[0murl\u001b[0m \u001b[0;34m)\u001b[0m\u001b[0;34m\u001b[0m\u001b[0;34m\u001b[0m\u001b[0m\n",
      "\u001b[0;31mKeyboardInterrupt\u001b[0m: "
     ]
    }
   ],
   "source": [
    "import pandas as pd\n",
    "import requests\n",
    "from bs4 import BeautifulSoup\n",
    "import csv\n",
    "import time   # タイマーを使うため\n",
    "\n",
    "#ヤフー出稿メディア別のページ一覧を読み込み\n",
    "df = pd.read_csv('yahoo_rss_all_list_2021_04_01.csv')\n",
    "\n",
    "#保存先ファイルを開き、列を作成\n",
    "with open(\"***.csv\", mode=\"a\", encoding=\"utf_8_sig\", newline='') as f:\n",
    "  writer = csv.DictWriter(f, ['Media', 'Title', 'Pubdate', 'Link'])\n",
    "  writer.writeheader()\n",
    "  \n",
    "  #スクレイピングの設定\n",
    "  for index, row in df.iterrows():\n",
    "    url = row['url']\n",
    "    # エチケットとして５秒待つ\n",
    "    time.sleep(5)\n",
    "\n",
    "    html = requests.get( url )\n",
    "    soup = BeautifulSoup(html.text, 'html.parser' )\n",
    "\n",
    "    for news in soup.find_all(class_='newsFeed_item'):\n",
    "      d = {}\n",
    "      d[\"Media\"]  = row['media_online']\n",
    "      d[\"Title\"] = news.select_one('.newsFeed_item_title').text\n",
    "      # ここを関数で処理\n",
    "      d[\"Pubdate\"] = dateString2Datetime( news.select_one('.newsFeed_item_date').text )\n",
    "      d[\"Link\"] = news.a['href']\n",
    "      print(d)\n",
    "      writer.writerow(d)\n"
   ]
  },
  {
   "cell_type": "code",
   "execution_count": null,
   "metadata": {},
   "outputs": [],
   "source": []
  }
 ],
 "metadata": {
  "kernelspec": {
   "display_name": "Python 3",
   "language": "python",
   "name": "python3"
  },
  "language_info": {
   "codemirror_mode": {
    "name": "ipython",
    "version": 3
   },
   "file_extension": ".py",
   "mimetype": "text/x-python",
   "name": "python",
   "nbconvert_exporter": "python",
   "pygments_lexer": "ipython3",
   "version": "3.7.4"
  }
 },
 "nbformat": 4,
 "nbformat_minor": 2
}
