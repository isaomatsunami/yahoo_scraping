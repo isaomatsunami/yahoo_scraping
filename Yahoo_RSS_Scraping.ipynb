{
  "nbformat": 4,
  "nbformat_minor": 0,
  "metadata": {
    "colab": {
      "name": "Yahoo_RSS_Scraping.ipynb",
      "provenance": [],
      "collapsed_sections": []
    },
    "kernelspec": {
      "name": "python3",
      "display_name": "Python 3"
    },
    "language_info": {
      "name": "python"
    }
  },
  "cells": [
    {
      "cell_type": "markdown",
      "metadata": {
        "id": "PaRmv8-7s3kn"
      },
      "source": [
        ""
      ]
    },
    {
      "cell_type": "code",
      "metadata": {
        "id": "bTmwionUN1wS"
      },
      "source": [
        "#Yahoo_RSS_ 見出しスクレイピング\n",
        "\n",
        "import requests\n",
        "from bs4 import BeautifulSoup\n",
        "import csv\n",
        "from datetime import datetime\n",
        "\n",
        "xml = requests.get(\"https://news.yahoo.co.jp/rss/topics/top-picks.xml\")\n",
        "soup =  BeautifulSoup(xml.text, 'xml')\n",
        "\n",
        "with open(\"/content/Yahoo_News_RSS.csv\", mode=\"a\", encoding=\"utf_8_sig\") as f:\n",
        "  writer = csv.DictWriter(f, ['title', 'link','pubDate','description'])\n",
        "  writer.writeheader()\n",
        "\n",
        "  for news in soup.findAll('item'):\n",
        "    d = {}\n",
        "    d['title'] = news.title.string\n",
        "    d['link'] = news.link.string\n",
        "    d['pubDate']  = news.pubDate.string\n",
        "    d['description']  = news.description.string\n",
        "    writer.writerow(d)\n",
        "\n",
        "#<item>\n",
        "#<title>東北新社事業認定5月取り消し</title>\n",
        "#<link>https://news.yahoo.co.jp/pickup/6388865?source=rss</link>\n",
        "#<pubDate>2021-03-26T00:20:42.000Z</pubDate>\n",
        "#<description>武田良太総務相は26日の閣議後記者会見で、東北新社子会社の衛星放送事業の認定を5月1日付で取り消すと発表した。放送法で定められた外資規制違反に伴う措置。</description>\n",
        "#<comments>https://news.yahoo.co.jp/articles/e9a030a2cfd0bf9d8ef74c24955b6bf99c33fa44/comments</comments>\n",
        "#</item>\n",
        "\n"
      ],
      "execution_count": 1,
      "outputs": []
    },
    {
      "cell_type": "markdown",
      "metadata": {
        "id": "7JELFkavXLKr"
      },
      "source": [
        "# New Section"
      ]
    },
    {
      "cell_type": "markdown",
      "metadata": {
        "id": "UB1EJXibXNqg"
      },
      "source": [
        "# New Section"
      ]
    },
    {
      "cell_type": "code",
      "metadata": {
        "id": "gYZ6xN-qXNI4"
      },
      "source": [
        ""
      ],
      "execution_count": null,
      "outputs": []
    }
  ]
}